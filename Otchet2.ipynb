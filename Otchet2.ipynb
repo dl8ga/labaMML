{
 "cells": [
  {
   "cell_type": "code",
   "execution_count": 11,
   "id": "0648eb4c",
   "metadata": {},
   "outputs": [
    {
     "name": "stdout",
     "output_type": "stream",
     "text": [
      "Введите d, q --> 1 -3.17\n"
     ]
    }
   ],
   "source": [
    "import numpy as np\n",
    "import matplotlib\n",
    "matplotlib.use('TkAgg')  # Без графического интерфейса\n",
    "import matplotlib.pyplot as plt\n",
    "\n",
    "d, q = map(float, input(\"Введите d, q --> \").split())\n",
    "e = 0.001  \n",
    "\n",
    "a = [\n",
    "    [q, 1, 0, 0, 0],\n",
    "    [1, -2, 1, 0, 0],\n",
    "    [0, 1, -2, 1, 0],\n",
    "    [0, 0, 1, -2, 1],\n",
    "    [0, 0, 0, 1, q]\n",
    "]\n",
    "\n",
    "b = [0, d, d, d, 0]\n"
   ]
  },
  {
   "cell_type": "markdown",
   "id": "6eae1828",
   "metadata": {},
   "source": [
    "t --> первые значения x (предыдущие)"
   ]
  },
  {
   "cell_type": "code",
   "execution_count": 12,
   "id": "510f7d47",
   "metadata": {},
   "outputs": [],
   "source": [
    "t = [0 for _ in range(len(b))]\n",
    "\n",
    "accuracy = [float(\"inf\")] * len(b)\n",
    "history_accuracy = []  \n",
    "iterations = 0  "
   ]
  },
  {
   "cell_type": "markdown",
   "id": "f113aa0d",
   "metadata": {},
   "source": [
    "vr --> временное x (фактическое)\n",
    "идем по каждой строке вычисляем сумму Xj*aij кроме диагонального значения(его мы ищем)\n",
    "потом из-за того что переносим иксы в другую сторону от = иеняеи знак на минус => \n",
    "      то что было - то что считали выше / коэфф X которого ищем\n",
    "считаем точность по модулю и присваеваем t то что получили  "
   ]
  },
  {
   "cell_type": "code",
   "execution_count": 13,
   "id": "afbc585d",
   "metadata": {},
   "outputs": [
    {
     "name": "stdout",
     "output_type": "stream",
     "text": [
      "   Итерационный -0.6899550004919165 -2.188089901203555 -2.6871573515593754 -2.188089901203555 -0.6899550004919165\n"
     ]
    }
   ],
   "source": [
    "while max(accuracy) > e:\n",
    "    vr = [0] * len(b)\n",
    "\n",
    "    for i in range(len(a)):\n",
    "        num = sum(a[i][j] * t[j] for j in range(len(a[0])) if j!= i)  \n",
    "\n",
    "        vr[i] = (b[i]-num)/a[i][i]\n",
    "\n",
    "    accuracy = [abs(vr[i] - t[i]) for i in range(len(t))]\n",
    "    history_accuracy.append(max(accuracy))  \n",
    "    t = vr\n",
    "    iterations += 1\n",
    "\n",
    "print(\"{:>15} {:>10} {:>10} {:>10} {:>10} {:>10}\".format(\"Итерационный\",*t))"
   ]
  },
  {
   "cell_type": "markdown",
   "id": "409d583d",
   "metadata": {},
   "source": [
    "No comment NUMPY"
   ]
  },
  {
   "cell_type": "code",
   "execution_count": 14,
   "id": "fd00c6c3",
   "metadata": {},
   "outputs": [
    {
     "name": "stdout",
     "output_type": "stream",
     "text": [
      "numpy solver -0.6912442396313364 -2.1912442396313363 -2.6912442396313363 -2.1912442396313363 -0.6912442396313364\n"
     ]
    }
   ],
   "source": [
    "A=np.array(a)\n",
    "B=np.array(b)\n",
    "x= np.linalg.solve(A,B)\n",
    "print(\"{:>10} {:>10} {:>10} {:>10} {:>10} {:>10}\".format(\"numpy solver\",*x))"
   ]
  },
  {
   "cell_type": "markdown",
   "id": "86b1c592",
   "metadata": {},
   "source": [
    "#9мЕтод Зейгея:\n",
    "+ vr сразу присваемваем t и тогда умножаем на vr[i] и сразу же изменяем vr[i]"
   ]
  },
  {
   "cell_type": "code",
   "execution_count": 15,
   "id": "bb494f08",
   "metadata": {},
   "outputs": [
    {
     "name": "stdout",
     "output_type": "stream",
     "text": [
      "             Зейгеля -0.6901020903412296 -2.1888628583613476 -2.688862858361311 -2.1896779368086166 -0.6907501377945163\n"
     ]
    }
   ],
   "source": [
    "accuracy = [float(\"inf\")] * len(b)\n",
    "history_accuracy_1 = []  \n",
    "iterations_1 = 0  \n",
    "\n",
    "t = [0] * len(b)\n",
    "while max(accuracy) > e:\n",
    "    vr = t.copy()\n",
    "\n",
    "    for i in range(len(a)):\n",
    "        num = sum(a[i][j] * vr[j] for j in range(len(a)) if j != i)  \n",
    "        vr[i] = (b[i] - num) / a[i][i]  \n",
    "\n",
    "    accuracy = [abs(vr[i] - t[i]) for i in range(len(t))]\n",
    "    history_accuracy_1.append(max(accuracy))  \n",
    "    if max(accuracy) < e:\n",
    "        break\n",
    "\n",
    "    t = vr\n",
    "    iterations_1 += 1\n",
    "\n",
    "print(\"{:>20} {:>10} {:>10} {:>10} {:>10} {:>10}\".format(\"Зейгеля\",*t))\n"
   ]
  },
  {
   "cell_type": "markdown",
   "id": "c7e78804",
   "metadata": {},
   "source": [
    "#9метод гейгеля + релаксация\n",
    "тоже самое что и гейгеля но когда считаем точность \n",
    "заранее выбрав наиболее оптимальный коэффициент релаксации"
   ]
  },
  {
   "cell_type": "code",
   "execution_count": 16,
   "id": "c0ba436b",
   "metadata": {},
   "outputs": [
    {
     "name": "stdout",
     "output_type": "stream",
     "text": [
      "Зейгеля + релаксация -0.6911843650551275 -2.191302463062619 -2.691400798264625 -2.1914463065483547 -0.6913006046924617\n"
     ]
    }
   ],
   "source": [
    "t = [0] * len(b)\n",
    "\n",
    "accuracy = [float(\"inf\")] * len(b)\n",
    "history_accuracy_2 = []  \n",
    "iterations_2 = 0  \n",
    "w = 1.4\n",
    "while max(accuracy) > e:\n",
    "    vr = t.copy()\n",
    "\n",
    "    for i in range(len(a)):\n",
    "        num = sum(a[i][j] * vr[j] for j in range(len(a)) if j != i)  \n",
    "        vr[i] = (1-w)*t[i]+w*(b[i] - num) / a[i][i]  \n",
    "\n",
    "    accuracy = [abs(vr[i] - t[i]) for i in range(len(t))]\n",
    "    history_accuracy_2.append(max(accuracy))  \n",
    "    if max(accuracy) < e:\n",
    "        break\n",
    "\n",
    "    t = vr\n",
    "    iterations_2 += 1\n",
    "print(\"{:>20} {:>10} {:>10} {:>10} {:>10} {:>10}\".format(\"Зейгеля + релаксация\",*t))\n",
    "\n",
    "maxxx = max(iterations_1,iterations)\n",
    "if min(len(history_accuracy_1),len(history_accuracy)) == len(history_accuracy):\n",
    "    for i in range(len(history_accuracy),maxxx):\n",
    "        history_accuracy.append(-0.1)\n",
    "else:\n",
    "    for i in range(len(history_accuracy_1),maxxx):\n",
    "        history_accuracy_1.append(-0.1)\n",
    "\n",
    "plt.figure(figsize=(8, 5))\n",
    "if len(history_accuracy_2)<=maxxx:\n",
    "    for i in range(len(history_accuracy_2),maxxx):\n",
    "        history_accuracy_2.append(-0.1)\n",
    "    plt.plot(range(1, maxxx + 1), history_accuracy_2, marker='o', linestyle='-', color='g', label=\"Зейгеля + релаксация\")\n",
    "\n",
    "plt.plot(range(1, maxxx + 1), history_accuracy_1, marker='o', linestyle='-', color='r', label=\"Зейгеля\")\n",
    "plt.plot(range(1, maxxx + 1), history_accuracy, marker='o', linestyle='-', color='b', label=\"Итерацонный\")\n",
    "plt.xlabel(\"Номер итерации\")\n",
    "plt.ylabel(\"Максимальная ошибка\")\n",
    "plt.title(\"Зависимость точности от числа итераций\")\n",
    "plt.grid()\n",
    "plt.legend()\n",
    "plt.show()"
   ]
  },
  {
   "cell_type": "markdown",
   "id": "6297c5fd",
   "metadata": {},
   "source": [
    "Итерационный + релаксация\n",
    "\n",
    "проверяем коэффициенты релаксации от 0.2 до 2.0 с шагом 0.2\n",
    "\n",
    "если мы используем метод итерации + метод релаксации, то желательно использовать w до 1, так как при большем значениии возможен вариант перепрыгнуть нужный результат и уйти в inf"
   ]
  },
  {
   "cell_type": "code",
   "execution_count": 9,
   "id": "7f287437",
   "metadata": {},
   "outputs": [
    {
     "name": "stdout",
     "output_type": "stream",
     "text": [
      "0.2 121\n",
      "-0.6833892270176948 -2.1710499050436023 -2.666343849645153 -2.1710499050436023 -0.6833892270176948\n",
      "0.4 69\n",
      "-0.6875766175601732 -2.1818152048369583 -2.6796178776657493 -2.1818152048369583 -0.6875766175601732\n",
      "0.6 49\n",
      "-0.6889601435167305 -2.185372091051019 -2.6840036549480355 -2.185372091051019 -0.6889601435167305\n",
      "0.8 38\n",
      "-0.6896049136349258 -2.1870297209160525 -2.686047576222715 -2.1870297209160525 -0.6896049136349258\n",
      "1.0 31\n",
      "-0.6899550004919165 -2.188089901203555 -2.6871573515593754 -2.188089901203555 -0.6899550004919165\n",
      "1.2 4459\n",
      "nan -inf inf -inf nan\n",
      "1.4 1662\n",
      "nan inf -inf inf nan\n",
      "1.6 1113\n",
      "nan -inf inf -inf nan\n",
      "1.8 875\n",
      "nan nan inf nan nan\n",
      "2.0 740\n",
      "nan inf -inf inf nan\n"
     ]
    }
   ],
   "source": [
    "w = 0.2\n",
    "while w<2.1:\n",
    "    t = [0] * len(b)\n",
    "\n",
    "    accuracy = [float(\"inf\")] * len(b)\n",
    "    history_accuracy = []  \n",
    "    iterations = 0  \n",
    "\n",
    "    while max(accuracy) > e:\n",
    "        vr = [0] * len(b)\n",
    "\n",
    "        for i in range(len(a)):\n",
    "            num = sum(a[i][j] * t[j] for j in range(len(a[0])) if j!= i)  \n",
    "            vr[i] = (1-w)*t[i] + w*(b[i]-num)/a[i][i]\n",
    "\n",
    "        accuracy = [abs(vr[i] - t[i]) for i in range(len(t))]\n",
    "        history_accuracy.append(max(accuracy))  \n",
    "        t = vr\n",
    "        iterations += 1\n",
    "    print(w,iterations)\n",
    "    w = round(w+0.2,2)\n",
    "    print(*t)"
   ]
  },
  {
   "cell_type": "markdown",
   "id": "0e4f4345",
   "metadata": {},
   "source": [
    "Зейгеля + релаксация с шагом 0.2"
   ]
  },
  {
   "cell_type": "code",
   "execution_count": 10,
   "id": "75ecc745",
   "metadata": {},
   "outputs": [
    {
     "name": "stdout",
     "output_type": "stream",
     "text": [
      "0.2 112\n",
      "-0.6834169690477538 -2.171539836653447 -2.667453380351899 -2.1723511164665372 -0.6840482369712649\n",
      "0.4 58\n",
      "-0.6875285230802646 -2.182134821928864 -2.680533176519485 -2.182960597586356 -0.6881716539608456\n",
      "0.6 37\n",
      "-0.6889953740218485 -2.1859197489136535 -2.685197983028793 -2.1867283651271614 -0.689626565317405\n",
      "0.8 25\n",
      "-0.689659558198576 -2.1876717840297566 -2.687381587057079 -2.1884972865012142 -0.6903073017663919\n",
      "1.0 17\n",
      "-0.6901020903412296 -2.1888628583613476 -2.688862858361311 -2.1896779368086166 -0.6907501377945163\n",
      "1.2 11\n",
      "-0.6906926700066678 -2.190282163134907 -2.690439461481872 -2.190801474197085 -0.6911274060363677\n",
      "1.4 10\n",
      "-0.6911843650551275 -2.191302463062619 -2.691400798264625 -2.1914463065483547 -0.6913006046924617\n",
      "1.6 16\n",
      "-0.6913784015596698 -2.1909186573134702 -2.690656173506617 -2.1907265779567178 -0.6910052773152674\n",
      "1.8 33\n",
      "-0.6909997180320825 -2.192069910452049 -2.6928711345509857 -2.192182240381148 -0.691647230521149\n"
     ]
    }
   ],
   "source": [
    "w = 0.2\n",
    "while w<2:\n",
    "    t = [0] * len(b)\n",
    "\n",
    "    accuracy = [float(\"inf\")] * len(b)\n",
    "    history_accuracy = []  \n",
    "    iterations = 0  \n",
    "\n",
    "    while max(accuracy) > e:\n",
    "        vr = t.copy()\n",
    "\n",
    "        for i in range(len(a)):\n",
    "            num = sum(a[i][j] * vr[j] for j in range(len(a)) if j != i)  \n",
    "            vr[i] = (1-w)*t[i]+w*(b[i] - num) / a[i][i]  \n",
    "\n",
    "        accuracy = [abs(vr[i] - t[i]) for i in range(len(t))]\n",
    "        history_accuracy.append(max(accuracy))  \n",
    "        if max(accuracy) < e:\n",
    "            break\n",
    "\n",
    "        t = vr\n",
    "        iterations += 1\n",
    "    print(w,iterations)\n",
    "    w = round(w+0.2,2)\n",
    "    print(*t)"
   ]
  },
  {
   "cell_type": "code",
   "execution_count": null,
   "id": "51d63f09",
   "metadata": {},
   "outputs": [],
   "source": []
  }
 ],
 "metadata": {
  "kernelspec": {
   "display_name": "Python 3 (ipykernel)",
   "language": "python",
   "name": "python3"
  },
  "language_info": {
   "codemirror_mode": {
    "name": "ipython",
    "version": 3
   },
   "file_extension": ".py",
   "mimetype": "text/x-python",
   "name": "python",
   "nbconvert_exporter": "python",
   "pygments_lexer": "ipython3",
   "version": "3.13.2"
  }
 },
 "nbformat": 4,
 "nbformat_minor": 5
}
