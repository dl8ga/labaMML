{
 "cells": [
  {
   "cell_type": "code",
   "execution_count": 4,
   "id": "5fde4eb3",
   "metadata": {},
   "outputs": [],
   "source": [
    "import numpy as np\n",
    "import matplotlib\n",
    "matplotlib.use(\"TkAgg\")\n",
    "import matplotlib.pyplot as plt\n",
    "\n",
    "f1 = lambda x, u1, u2: u1 + u2 - 2*x - (np.e**x) + 2\n",
    "f2 = lambda x, u1, u2: u1 + u2 - 2*x\n",
    "\n",
    "a, b = 1, 2\n",
    "h = 0.1  \n",
    "max_iter = 100  \n",
    "\n",
    "u1a = 2 * a\n",
    "u2a = np.e ** a\n"
   ]
  },
  {
   "cell_type": "markdown",
   "id": "d8898b16",
   "metadata": {},
   "source": [
    "u1_vals --> хранит подсчитанные значения первой функции\n",
    "u2_vals второй\n",
    "\n",
    "выразив из основной формулы получаем формулу для нахождения y следующего\n",
    "и запихнув в функцию описанную выше находи ее и записываем в vals\n",
    "\n",
    "смторим на точность и в случаи чего выходим из функции\n",
    "шаг уменьшаем в 2 раза "
   ]
  },
  {
   "cell_type": "code",
   "execution_count": 5,
   "id": "2fb41430",
   "metadata": {},
   "outputs": [
    {
     "name": "stdout",
     "output_type": "stream",
     "text": [
      "0.1 0.14260236520548375 0.3722494154012326\n",
      "0.05 0.08424174220875447 0.20003806154003012\n",
      "0.025 0.04591275379546511 0.10405416521713473\n",
      "0.0125 4.86851447503156e-05 0.03828036440586047\n",
      "0.00625 0.012262932875543253 0.02684389813729471\n",
      "0.003125 0.006200261534755391 0.01349454524711824\n",
      "0.0015625 0.0031175213497851573 0.006765613477339727\n",
      "0.00078125 4.500210380342651e-06 0.0023814162352078228\n",
      "0.000390625 0.0007826623315621006 0.0016948635386846433\n",
      "0.0001953125 0.0003916055575059474 0.0008477210087276532\n",
      "9.765625e-05 0.00019587141804722208 0.0004239328584727531\n",
      "4.8828125e-05 3.117573714739308e-07 0.00014879409801160648\n",
      "2.44140625e-05 4.898075471526653e-05 0.00010599680035117132\n",
      "1.220703125e-05 2.4491461893205724e-05 5.299953758086673e-05\n",
      "Шаг удовлетворяющий условия  1.220703125e-05\n"
     ]
    }
   ],
   "source": [
    "\n",
    "for _ in range(max_iter):\n",
    "    x_vals = np.arange(a, b + h, h)\n",
    "    u1_vals = [u1a]\n",
    "    u2_vals = [u2a]\n",
    "\n",
    "    for x in x_vals[:-1]:\n",
    "        u1_next = u1_vals[-1] + h * f1(x, u1_vals[-1], u2_vals[-1])\n",
    "        u2_next = u2_vals[-1] + h * f2(x, u1_vals[-1], u2_vals[-1])\n",
    "        \n",
    "        u1_vals.append(u1_next)\n",
    "        u2_vals.append(u2_next)\n",
    "    \n",
    "    print(h,abs(u1_vals[-1] - 2*b),abs(u2_vals[-1] - np.e**b))\n",
    "    if abs(u1_vals[-1] - 2*b) < 0.0001 and abs(u2_vals[-1] - np.e**b) < 0.0001:\n",
    "        break\n",
    "    h /= 2\n",
    "print(\"Шаг удовлетворяющий условия \", h)\n"
   ]
  },
  {
   "cell_type": "markdown",
   "id": "10bbf1c2",
   "metadata": {},
   "source": [
    "выводим на график полученую vals и то что было изначально "
   ]
  },
  {
   "cell_type": "code",
   "execution_count": 6,
   "id": "aa4ad9cc",
   "metadata": {},
   "outputs": [],
   "source": [
    "\n",
    "plt.plot(x_vals, u1_vals, label=\"u1 (численное)\")  \n",
    "plt.plot(x_vals, u2_vals, label=\"u2 (численное)\")\n",
    "plt.plot(x_vals, 2*x_vals, \"--\", label=\"u1 (точное)\")\n",
    "plt.plot(x_vals, np.e**x_vals, \"--\", label=\"u2 (точное)\")\n",
    "plt.legend()\n",
    "plt.grid()\n",
    "plt.xlabel(\"x\")\n",
    "plt.ylabel(\"u\")\n",
    "plt.title(\"Решение системы методом Эйлера\")\n",
    "plt.show()"
   ]
  },
  {
   "cell_type": "code",
   "execution_count": null,
   "id": "63fb5b5a",
   "metadata": {},
   "outputs": [],
   "source": []
  }
 ],
 "metadata": {
  "kernelspec": {
   "display_name": "Python 3 (ipykernel)",
   "language": "python",
   "name": "python3"
  },
  "language_info": {
   "codemirror_mode": {
    "name": "ipython",
    "version": 3
   },
   "file_extension": ".py",
   "mimetype": "text/x-python",
   "name": "python",
   "nbconvert_exporter": "python",
   "pygments_lexer": "ipython3",
   "version": "3.13.2"
  }
 },
 "nbformat": 4,
 "nbformat_minor": 5
}
