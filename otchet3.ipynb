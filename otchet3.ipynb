{
 "cells": [
  {
   "cell_type": "code",
   "execution_count": 1,
   "id": "b9b26c0c",
   "metadata": {
    "scrolled": true
   },
   "outputs": [
    {
     "name": "stdout",
     "output_type": "stream",
     "text": [
      "---------------------------\n",
      " x  |  y\n",
      "0.0 | 0.0\n",
      "1.0 | -6.0807341827357115\n",
      "2.0 | -4.268218104318061\n",
      "3.0 | 8.80085143325183\n",
      "---------------------------\n"
     ]
    }
   ],
   "source": [
    "import numpy as np\n",
    "import math\n",
    "import matplotlib\n",
    "matplotlib.use(\"TkAgg\")\n",
    "import matplotlib.pyplot as plt\n",
    "\n",
    "a,b,m,n  = 0,3,4,4\n",
    "x1 = np.linspace(a,b,num=m)\n",
    "x=[]\n",
    "for i in range(1,len(x1)+1):\n",
    "    x.append(a+(i-1)*(b-a)/(m-1))\n",
    "\n",
    "y=[]\n",
    "print(\"---------------------------\")\n",
    "print(\" x  |  y\")\n",
    "for i in range(len(x1)):\n",
    "    print(x[i],\"|\", x[i]*x[i]-10*math.sin(x[i])**2)\n",
    "    y.append(x[i]*x[i]-10*math.sin(x[i])**2)\n",
    "print(\"---------------------------\")\n"
   ]
  },
  {
   "cell_type": "markdown",
   "id": "f0ba7f42",
   "metadata": {},
   "source": [
    "k массив коэфф a1,a2,a3...an\n",
    "perm массив лестницы\n",
    "1|1|0|0|0| ---> эти переменные нам и нужны для подсчета an\n",
    "2|1|0|0|\n",
    "3|1|0|\n",
    "4|1|\n",
    "5|\n",
    "t --> будет предыдущей ступенью"
   ]
  },
  {
   "cell_type": "code",
   "execution_count": 2,
   "id": "30f0653c",
   "metadata": {},
   "outputs": [
    {
     "name": "stdout",
     "output_type": "stream",
     "text": [
      "[0.0, -6.0807341827357115, 3.946625130576681, 0.560550532999813]\n"
     ]
    }
   ],
   "source": [
    "\n",
    "k = [y[0]]\n",
    "t = y.copy()\n",
    "for i in range(len(x)):\n",
    "    perm = []\n",
    "    for j in range(len(t)-1):\n",
    "        if j==0:\n",
    "            k.append((t[j+1]-t[j])/(math.factorial(i+1)*(x[1]-x[0])))\n",
    "        perm.append(t[j+1]-t[j])\n",
    "    t = perm\n",
    "\n",
    "print(k)"
   ]
  },
  {
   "cell_type": "markdown",
   "id": "d1680794",
   "metadata": {},
   "source": [
    "выводим формулу"
   ]
  },
  {
   "cell_type": "code",
   "execution_count": 3,
   "id": "1919fdf6",
   "metadata": {},
   "outputs": [
    {
     "name": "stdout",
     "output_type": "stream",
     "text": [
      "0.0000 + -6.0807*(x - 0.00) + 3.9466*(x - 0.00)*(x - 1.00) + 0.5606*(x - 0.00)*(x - 1.00)*(x - 2.00)\n"
     ]
    }
   ],
   "source": [
    "terms = [f\"{k[0]:.4f}\"]\n",
    "\n",
    "for i in range(1, len(k)):\n",
    "    term = f\"{k[i]:.4f}\"\n",
    "    for j in range(i):\n",
    "        term += f\"*(x - {x[j]:.2f})\"\n",
    "    terms.append(term)\n",
    "\n",
    "print(\" + \".join(terms))\n"
   ]
  },
  {
   "cell_type": "markdown",
   "id": "e872f089",
   "metadata": {},
   "source": [
    "Реализуем формулу"
   ]
  },
  {
   "cell_type": "code",
   "execution_count": 5,
   "id": "af24002e",
   "metadata": {},
   "outputs": [],
   "source": [
    "def search_y(x_s,k,x):\n",
    "    sum = k[0]\n",
    "    for i in range(1,len(k)):\n",
    "        pr = 1\n",
    "        for j in range(i):\n",
    "            pr*=x_s-x[j]\n",
    "        sum += pr*k[i]\n",
    "    return sum"
   ]
  },
  {
   "cell_type": "markdown",
   "id": "fbb6ad12",
   "metadata": {},
   "source": [
    "rang массив X из 20 точек\n",
    "hist результат --> Y"
   ]
  },
  {
   "cell_type": "code",
   "execution_count": 6,
   "id": "7540ea2d",
   "metadata": {},
   "outputs": [],
   "source": [
    "rang = np.linspace(0,3,num=20)\n",
    "hist = [search_y(i,k,x) for i in rang]\n",
    "\n",
    "plt.figure(figsize=(8,6))\n",
    "plt.plot(rang,hist,marker=\"None\",linestyle=\"-\",color=\"r\",label=\"Функция\")\n",
    "plt.plot(x,y,marker=\"o\",linestyle=\"None\",color=\"b\",markersize=10,label=\"Исходные точки\")\n",
    "plt.title(\"Аппроксимированная функция\")\n",
    "plt.ylabel(\"y\")\n",
    "plt.xlabel(\"x\")\n",
    "plt.grid()\n",
    "plt.legend()\n",
    "plt.show()"
   ]
  }
 ],
 "metadata": {
  "kernelspec": {
   "display_name": "Python 3 (ipykernel)",
   "language": "python",
   "name": "python3"
  },
  "language_info": {
   "codemirror_mode": {
    "name": "ipython",
    "version": 3
   },
   "file_extension": ".py",
   "mimetype": "text/x-python",
   "name": "python",
   "nbconvert_exporter": "python",
   "pygments_lexer": "ipython3",
   "version": "3.13.2"
  }
 },
 "nbformat": 4,
 "nbformat_minor": 5
}
