{
 "cells": [
  {
   "cell_type": "code",
   "execution_count": 8,
   "id": "e41b5657",
   "metadata": {},
   "outputs": [],
   "source": [
    "import numpy as np\n",
    "tol = 1e-6\n",
    "\n",
    "f = lambda x: x**2 - 10 * np.sin(x)**2  \n",
    "df = lambda x: 2*x - 20 * np.sin(x) * np.cos(x)    #<-- производная   \n",
    "\n",
    "x_values = np.linspace(-1, 3, 10)\n"
   ]
  },
  {
   "cell_type": "markdown",
   "id": "b8eef342",
   "metadata": {},
   "source": [
    "Реализуем метод ньютона "
   ]
  },
  {
   "cell_type": "code",
   "execution_count": 9,
   "id": "9e983dcb",
   "metadata": {},
   "outputs": [],
   "source": [
    "def newton_method(f, df, x0, max_iter=100):\n",
    "    x = x0\n",
    "    for _ in range(max_iter):\n",
    "        fx = f(x)\n",
    "        dfx = df(x)\n",
    "        if abs(fx) < tol:\n",
    "            return x\n",
    "        if dfx == 0:\n",
    "            return None  \n",
    "        x -= fx / dfx\n",
    "    return None  \n"
   ]
  },
  {
   "cell_type": "markdown",
   "id": "2c99a209",
   "metadata": {},
   "source": [
    "подсчитываем производную и само значение функции\n",
    "если значение функции приблизитльно 0, то возвращаем корень \n",
    "если производная равна 0 возвращаем нон \n",
    "каждый раз пересчитываем x по формуле"
   ]
  },
  {
   "cell_type": "code",
   "execution_count": 10,
   "id": "1ef91c8b",
   "metadata": {},
   "outputs": [
    {
     "name": "stdout",
     "output_type": "stream",
     "text": [
      "Найденные корни: [np.float64(-0.000276), np.float64(0.000307), np.float64(2.318578)]\n"
     ]
    }
   ],
   "source": [
    "roots = [-1]  \n",
    "for x0 in x_values:\n",
    "    root = newton_method(f, df, x0)\n",
    "    if root is not None:\n",
    "        if max(roots)+1e-4<root: \n",
    "            roots.append(round(root, 6))  \n",
    "roots = sorted(roots[1:])\n",
    "\n",
    "print(f\"Найденные корни: {roots}\")"
   ]
  },
  {
   "cell_type": "markdown",
   "id": "f17a54f8",
   "metadata": {},
   "source": [
    "создаем массив корней и изначально туда заносим левую границу (-1)\n",
    "x values точки входа равномерно распределиввшиеся по дистниции \n",
    "проверяем root на наличие значения, а потом на то чтобы он не был слишком близок к предыдущему"
   ]
  }
 ],
 "metadata": {
  "kernelspec": {
   "display_name": "Python 3 (ipykernel)",
   "language": "python",
   "name": "python3"
  },
  "language_info": {
   "codemirror_mode": {
    "name": "ipython",
    "version": 3
   },
   "file_extension": ".py",
   "mimetype": "text/x-python",
   "name": "python",
   "nbconvert_exporter": "python",
   "pygments_lexer": "ipython3",
   "version": "3.13.2"
  }
 },
 "nbformat": 4,
 "nbformat_minor": 5
}
