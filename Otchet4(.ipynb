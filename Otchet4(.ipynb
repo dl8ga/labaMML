{
 "cells": [
  {
   "cell_type": "markdown",
   "id": "ffe91f69",
   "metadata": {},
   "source": [
    "формула подсчета производной"
   ]
  },
  {
   "cell_type": "code",
   "execution_count": 7,
   "id": "0c81cea9",
   "metadata": {},
   "outputs": [],
   "source": [
    "import numpy as np\n",
    "import matplotlib\n",
    "matplotlib.use(\"TkAgg\")\n",
    "import matplotlib.pyplot as plt\n",
    "\n",
    "def derivative(y1, y3, h):\n",
    "    return (y3 - y1) / (2 * h)\n"
   ]
  },
  {
   "cell_type": "markdown",
   "id": "46c2d090",
   "metadata": {},
   "source": [
    "y1 предыдущее \n",
    "y3 следующее \n",
    "h шаг \n",
    "\n",
    "скорость показывает убывает\\возрастает ли наш график"
   ]
  },
  {
   "cell_type": "code",
   "execution_count": 8,
   "id": "6dac011c",
   "metadata": {},
   "outputs": [
    {
     "name": "stdout",
     "output_type": "stream",
     "text": [
      "Скорость в x = 0.1500: -2.6111\n",
      "Скорость в x = 0.3000: -4.9621\n",
      "Скорость в x = 0.4500: -6.8163\n",
      "Скорость в x = 0.6000: -7.9812\n",
      "Скорость в x = 0.7500: -8.3260\n",
      "Скорость в x = 0.9000: -7.7931\n",
      "Скорость в x = 1.0500: -6.4032\n",
      "Скорость в x = 1.2000: -4.2538\n",
      "Скорость в x = 1.3500: -1.5100\n",
      "Скорость в x = 1.5000: 1.6099\n",
      "Скорость в x = 1.6500: 4.8539\n",
      "Скорость в x = 1.8000: 7.9591\n",
      "Скорость в x = 1.9500: 10.6750\n",
      "Скорость в x = 2.1000: 12.7856\n",
      "Скорость в x = 2.2500: 14.1293\n",
      "Скорость в x = 2.4000: 14.6129\n",
      "Скорость в x = 2.5500: 14.2199\n",
      "Скорость в x = 2.7000: 13.0123\n",
      "Скорость в x = 2.8500: 11.1246\n"
     ]
    }
   ],
   "source": [
    "x_values = np.linspace(0, 3, num=21)  \n",
    "y_values = x_values**2 - 10 * np.sin(x_values)**2  \n",
    "\n",
    "h = x_values[1] - x_values[0]  \n",
    "derivatives = []\n",
    "\n",
    "for i in range(1, len(x_values) - 1):\n",
    "    df = derivative(y_values[i - 1], y_values[i + 1], h)\n",
    "    derivatives.append(df)\n",
    "    print(f\"Скорость в x = {x_values[i]:.4f}: {df:.4f}\")\n"
   ]
  },
  {
   "cell_type": "markdown",
   "id": "351468d3",
   "metadata": {},
   "source": [
    "теперь находим ускорения, характуризует на сколько быстро возрастает\\убывает функция"
   ]
  },
  {
   "cell_type": "code",
   "execution_count": 9,
   "id": "1f8b546a",
   "metadata": {},
   "outputs": [
    {
     "name": "stdout",
     "output_type": "stream",
     "text": [
      "Ускорение в x = 0.1500: -16.9639\n",
      "Ускорение в x = 0.3000: -14.3833\n",
      "Ускорение в x = 0.4500: -10.3392\n",
      "Ускорение в x = 0.6000: -5.1930\n",
      "Ускорение в x = 0.7500: 0.5958\n",
      "Ускорение в x = 0.9000: 6.5101\n",
      "Ускорение в x = 1.0500: 12.0214\n",
      "Ускорение в x = 1.2000: 16.6376\n",
      "Ускорение в x = 1.3500: 19.9462\n",
      "Ускорение в x = 1.5000: 21.6518\n",
      "Ускорение в x = 1.6500: 21.6019\n",
      "Ускорение в x = 1.8000: 19.8011\n",
      "Ускорение в x = 1.9500: 16.4101\n",
      "Ускорение в x = 2.1000: 11.7319\n",
      "Ускорение в x = 2.2500: 6.1844\n",
      "Ускорение в x = 2.4000: 0.2631\n",
      "Ускорение в x = 2.5500: -5.5030\n",
      "Ускорение в x = 2.7000: -10.5989\n",
      "Ускорение в x = 2.8500: -14.5694\n"
     ]
    }
   ],
   "source": [
    "\n",
    "def derivative(y1,y2, y3, h):\n",
    "    return (y1 - 2*y2 + y3) / (h * h)\n",
    "\n",
    "x_values = np.linspace(0, 3, num=21)  \n",
    "y_values = x_values**2 - 10 * np.sin(x_values)**2  \n",
    "\n",
    "h = x_values[1] - x_values[0]  \n",
    "derivatives = []\n",
    "\n",
    "for i in range(1, len(x_values) - 1):\n",
    "    df = derivative(y_values[i - 1],y_values[i], y_values[i + 1], h)\n",
    "    derivatives.append(df)\n",
    "    print(f\"Ускорение в x = {x_values[i]:.4f}: {df:.4f}\")\n"
   ]
  },
  {
   "cell_type": "markdown",
   "id": "9cfa316d",
   "metadata": {},
   "source": [
    "наша функция"
   ]
  },
  {
   "cell_type": "code",
   "execution_count": 10,
   "id": "e645a8f4",
   "metadata": {},
   "outputs": [],
   "source": [
    "def f(x):\n",
    "    return x**2 - 10 * np.sin(x)**2\n"
   ]
  },
  {
   "cell_type": "markdown",
   "id": "0d0fc3dc",
   "metadata": {},
   "source": [
    "интегрирование методом трапеции \n",
    "a b границы\n",
    "h шаг\n",
    "f наша функция\n",
    "\n",
    "находим кол-во делений n\n",
    "массив x от a до b n - делений\n",
    "массив y в точках x\n",
    "integral считается по формуле "
   ]
  },
  {
   "cell_type": "code",
   "execution_count": 11,
   "id": "85d65324",
   "metadata": {},
   "outputs": [],
   "source": [
    "def integrate_trapezoidal(f, a, b, h):\n",
    "    n = int((b - a) / h)  \n",
    "    x = np.linspace(a, b, n+1)  \n",
    "    y = f(x)\n",
    "    integral = (h / 2) * (y[0] + 2 * sum(y[1:n]) + y[n])\n",
    "    return integral\n"
   ]
  },
  {
   "cell_type": "markdown",
   "id": "ab462e33",
   "metadata": {},
   "source": [
    "h_values --> шаги интерирования"
   ]
  },
  {
   "cell_type": "code",
   "execution_count": 13,
   "id": "95c31611",
   "metadata": {},
   "outputs": [
    {
     "name": "stdout",
     "output_type": "stream",
     "text": [
      "h = 0.20, Приближенное значение интеграла: -6.6692\n",
      "h = 0.10, Приближенное значение интеграла: -6.6912\n",
      "h = 0.05, Приближенное значение интеграла: -6.6967\n"
     ]
    }
   ],
   "source": [
    "\n",
    "a, b = 0, 3  \n",
    "\n",
    "h_values = [0.2, 0.1, 0.05]\n",
    "for h in h_values:\n",
    "    integral_value = integrate_trapezoidal(f, a, b, h)\n",
    "    print(f\"h = {h:.2f}, Приближенное значение интеграла: {integral_value:.4f}\")\n"
   ]
  },
  {
   "cell_type": "markdown",
   "id": "25d3c5ad",
   "metadata": {},
   "source": [
    "m-values --> кол-во разбиений "
   ]
  },
  {
   "cell_type": "code",
   "execution_count": 15,
   "id": "4aa61fdd",
   "metadata": {},
   "outputs": [
    {
     "name": "stdout",
     "output_type": "stream",
     "text": [
      "m = 10, Приближенное значение интеграла: 0.0000\n",
      "m = 20, Приближенное значение интеграла: 0.0000\n",
      "m = 40, Приближенное значение интеграла: 0.0000\n"
     ]
    }
   ],
   "source": [
    "m_values = [10, 20, 40]\n",
    "for m in m_values:\n",
    "    integral_value = integrate_trapezoidal(f, a, b, m)\n",
    "    print(f\"m = {m}, Приближенное значение интеграла: {integral_value:.4f}\")\n"
   ]
  },
  {
   "cell_type": "code",
   "execution_count": null,
   "id": "f9c61a93",
   "metadata": {},
   "outputs": [],
   "source": []
  }
 ],
 "metadata": {
  "kernelspec": {
   "display_name": "Python 3 (ipykernel)",
   "language": "python",
   "name": "python3"
  },
  "language_info": {
   "codemirror_mode": {
    "name": "ipython",
    "version": 3
   },
   "file_extension": ".py",
   "mimetype": "text/x-python",
   "name": "python",
   "nbconvert_exporter": "python",
   "pygments_lexer": "ipython3",
   "version": "3.13.2"
  }
 },
 "nbformat": 4,
 "nbformat_minor": 5
}
