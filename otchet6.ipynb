{
 "cells": [
  {
   "cell_type": "code",
   "execution_count": 1,
   "id": "cfabb3ee",
   "metadata": {},
   "outputs": [],
   "source": [
    "import numpy as np\n",
    "import matplotlib\n",
    "matplotlib.use(\"TkAgg\")\n",
    "import matplotlib.pyplot as plt\n",
    "\n",
    "sech = 0.381966011  \n",
    "a, b = -6, 3  \n",
    "\n",
    "f = lambda x: x*np.sin(x)-10*np.sin(x)**2\n",
    "\n",
    "hist =[]\n",
    "e = [1e-2, 1e-3, 1e-4, 1e-5]  "
   ]
  },
  {
   "cell_type": "markdown",
   "id": "c47e884e",
   "metadata": {},
   "source": [
    "находим точки 2 точки золотого сечения x1 x2 \n",
    "вычесляем значение y1,y2\n",
    "цикл пока разница не будет меньше точности \n",
    "если y1 больше \n",
    "правую границу сдвигаем а x1 = x2\n",
    "пересчитываем x и y для нового сечения тоже амое с другим "
   ]
  },
  {
   "cell_type": "code",
   "execution_count": 2,
   "id": "77f90867",
   "metadata": {},
   "outputs": [
    {
     "name": "stdout",
     "output_type": "stream",
     "text": [
      "Точность: 0.01, итераций: 16, найденная точка: -2.56308471411607\n",
      "Точность: 0.001, итераций: 3, найденная точка: -2.5649398279000115\n",
      "Точность: 0.0001, итераций: 4, найденная точка: -2.56518366147892\n",
      "Точность: 1e-05, итераций: 4, найденная точка: -2.5652056479390266\n"
     ]
    }
   ],
   "source": [
    "for en in e: \n",
    "    x1 = b - sech * (b - a)\n",
    "    x2 = a + sech * (b - a)\n",
    "\n",
    "    y1 = f(x1)\n",
    "    y2 = f(x2)\n",
    "\n",
    "    it = 0\n",
    "    while (b - a) > en: \n",
    "        if y1 > y2:\n",
    "            a = x1\n",
    "            x1 = x2\n",
    "            y1 = y2\n",
    "            x2 = b - sech * (b - a) \n",
    "            y2 = f(x2)\n",
    "        else:\n",
    "            b = x2\n",
    "            x2 = x1\n",
    "            y2 = y1\n",
    "            x1 = a + sech * (b - a) \n",
    "            y1 = f(x1)\n",
    "        it += 1\n",
    "\n",
    "    print(f\"Точность: {en}, итераций: {it}, найденная точка: {(a + b) / 2}\")\n",
    "    hist.append(it)\n"
   ]
  },
  {
   "cell_type": "code",
   "execution_count": 3,
   "id": "2d0044da",
   "metadata": {},
   "outputs": [],
   "source": [
    "\n",
    "plt.figure(figsize=(8,6))\n",
    "plt.plot(e,hist,color=\"r\")\n",
    "plt.xlabel(\"точность\")\n",
    "plt.ylabel(\"Iteration\")\n",
    "plt.grid()\n",
    "plt.show()"
   ]
  },
  {
   "cell_type": "code",
   "execution_count": null,
   "id": "c4633bb2",
   "metadata": {},
   "outputs": [],
   "source": []
  }
 ],
 "metadata": {
  "kernelspec": {
   "display_name": "Python 3 (ipykernel)",
   "language": "python",
   "name": "python3"
  },
  "language_info": {
   "codemirror_mode": {
    "name": "ipython",
    "version": 3
   },
   "file_extension": ".py",
   "mimetype": "text/x-python",
   "name": "python",
   "nbconvert_exporter": "python",
   "pygments_lexer": "ipython3",
   "version": "3.13.2"
  }
 },
 "nbformat": 4,
 "nbformat_minor": 5
}
